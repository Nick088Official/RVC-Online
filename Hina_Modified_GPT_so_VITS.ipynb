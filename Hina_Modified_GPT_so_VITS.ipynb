{
  "nbformat": 4,
  "nbformat_minor": 0,
  "metadata": {
    "colab": {
      "provenance": [],
      "private_outputs": true,
      "gpuType": "T4"
    },
    "kernelspec": {
      "name": "python3",
      "display_name": "Python 3"
    },
    "accelerator": "GPU"
  },
  "cells": [
    {
      "cell_type": "code",
      "metadata": {
        "id": "e9b7iFV3dm1f",
        "cellView": "form"
      },
      "source": [
        "\n",
        "#@title Install Requirements\n",
        "from IPython.display import clear_output, Javascript\n",
        "!pip install -q condacolab\n",
        "# Setting up condacolab and installing packages\n",
        "import condacolab\n",
        "condacolab.install_from_url(\"https://repo.anaconda.com/miniconda/Miniconda3-py39_23.11.0-2-Linux-x86_64.sh\")\n",
        "%cd -q /content\n",
        "!git clone https://github.com/RVC-Boss/GPT-SoVITS\n",
        "!conda install -y -q -c pytorch -c nvidia cudatoolkit\n",
        "%cd -q /content/GPT-SoVITS\n",
        "!conda install -y -q -c conda-forge gcc gxx ffmpeg cmake -c pytorch -c nvidia\n",
        "!/usr/local/bin/pip install -r requirements.txt\n",
        "\n",
        "clear_output()\n",
        "print(\"Install Requirements Complete\")"
      ],
      "execution_count": null,
      "outputs": []
    },
    {
      "cell_type": "code",
      "source": [
        "# @title Download pretrained models\n",
        "!mkdir -p /content/GPT-SoVITS/GPT_SoVITS/pretrained_models\n",
        "!mkdir -p /content/GPT-SoVITS/tools/damo_asr/models\n",
        "!mkdir -p /content/GPT-SoVITS/tools/uvr5\n",
        "%cd /content/GPT-SoVITS/GPT_SoVITS/pretrained_models\n",
        "!git clone https://huggingface.co/lj1995/GPT-SoVITS\n",
        "%cd /content/GPT-SoVITS/tools/damo_asr/models\n",
        "!git clone https://www.modelscope.cn/damo/speech_paraformer-large_asr_nat-zh-cn-16k-common-vocab8404-pytorch.git\n",
        "!git clone https://www.modelscope.cn/damo/speech_fsmn_vad_zh-cn-16k-common-pytorch.git\n",
        "!git clone https://www.modelscope.cn/damo/punc_ct-transformer_zh-cn-common-vocab272727-pytorch.git\n",
        "# @title UVR5 pretrains 安装uvr5模型\n",
        "%cd /content/GPT-SoVITS/tools/uvr5\n",
        "!git clone https://huggingface.co/Delik/uvr5_weights\n",
        "!git config core.sparseCheckout true\n",
        "!mv /content/GPT-SoVITS/GPT_SoVITS/pretrained_models/GPT-SoVITS/* /content/GPT-SoVITS/GPT_SoVITS/pretrained_models/\n",
        "\n",
        "clear_output()\n",
        "print(\"Download Models Complete\")"
      ],
      "metadata": {
        "id": "0NgxXg5sjv7z",
        "cellView": "form"
      },
      "execution_count": null,
      "outputs": []
    },
    {
      "cell_type": "code",
      "source": [
        "#@title Autosave to Drive\n",
        "from google.colab import drive\n",
        "drive.mount('/content/drive')\n",
        "\n",
        "import os\n",
        "import shutil\n",
        "\n",
        "# Make Directories on Drive\n",
        "directories = [\n",
        "    \"/content/drive/MyDrive/gptsovits/GPT_weights\",\n",
        "    \"/content/drive/MyDrive/gptsovits/SoVITS_weights\",\n",
        "    \"/content/drive/MyDrive/gptsovits/logs\",\n",
        "    \"/content/drive/MyDrive/gptsovits/output\"\n",
        "]\n",
        "\n",
        "for directory in directories:\n",
        "    if not os.path.exists(directory):\n",
        "        os.makedirs(directory)\n",
        "\n",
        "\n",
        "\n",
        "# Delete Folders in Drive\n",
        "# Define the colab_link_* directories\n",
        "colab_directories = [\n",
        "    \"/content/GPT-SoVITS/GPT_weights\",\n",
        "    \"/content/GPT-SoVITS/SoVITS_weights\",\n",
        "    \"/content/GPT-SoVITS/logs\",\n",
        "    \"/content/GPT-SoVITS/output\"\n",
        "]\n",
        "\n",
        "# Delete the colab_link_* directories\n",
        "for directory in colab_directories:\n",
        "    if os.path.exists(directory):\n",
        "        shutil.rmtree(directory)\n",
        "\n",
        "\n",
        "\n",
        "\n",
        "# Merge Drive folders to Colab\n",
        "drive_link_GPT_weights = \"/content/drive/MyDrive/gptsovits/GPT_weights\"\n",
        "colab_link_GPT_weights = \"/content/GPT-SoVITS/GPT_weights\"\n",
        "\n",
        "drive_link_SoVITS_weights = \"/content/drive/MyDrive/gptsovits/SoVITS_weights\"\n",
        "colab_link_SoVITS_weights = \"/content/GPT-SoVITS/SoVITS_weights\"\n",
        "\n",
        "drive_link_logs = \"/content/drive/MyDrive/gptsovits/logs\"\n",
        "colab_link_logs = \"/content/GPT-SoVITS/logs\"\n",
        "\n",
        "drive_link_output = \"/content/drive/MyDrive/gptsovits/output\"\n",
        "colab_link_output = \"/content/GPT-SoVITS/output\"\n",
        "\n",
        "os.symlink(drive_link_GPT_weights, colab_link_GPT_weights,True)\n",
        "os.symlink(drive_link_SoVITS_weights,colab_link_SoVITS_weights,True)\n",
        "os.symlink(drive_link_logs,colab_link_logs,True)\n",
        "os.symlink(drive_link_output,colab_link_output,True)\n",
        "\n",
        "print('Important files now be saved in Google Drive folder \"gptsovits\"')"
      ],
      "metadata": {
        "cellView": "form",
        "id": "gN_V2dl81iyi"
      },
      "execution_count": null,
      "outputs": []
    },
    {
      "cell_type": "code",
      "source": [
        "# @title launch WebUI\n",
        "!/usr/local/bin/pip install ipykernel\n",
        "!sed -i '10s/False/True/' /content/GPT-SoVITS/config.py\n",
        "%cd /content/GPT-SoVITS/\n",
        "clear_output()\n",
        "print(\"Now Loading\")\n",
        "!/usr/local/bin/python  webui.py"
      ],
      "metadata": {
        "id": "4oRGUzkrk8C7",
        "cellView": "form"
      },
      "execution_count": null,
      "outputs": []
    }
  ]
}